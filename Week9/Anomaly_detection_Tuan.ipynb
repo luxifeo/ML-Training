{
 "cells": [
  {
   "cell_type": "code",
   "execution_count": 1,
   "metadata": {},
   "outputs": [],
   "source": [
    "import os\n",
    "from scipy.io import loadmat\n",
    "import numpy as np\n",
    "import matplotlib.pyplot as plt"
   ]
  },
  {
   "cell_type": "code",
   "execution_count": 2,
   "metadata": {},
   "outputs": [
    {
     "data": {
      "text/plain": [
       "dict_keys(['__header__', '__version__', '__globals__', 'X', 'Xval', 'yval'])"
      ]
     },
     "execution_count": 2,
     "metadata": {},
     "output_type": "execute_result"
    }
   ],
   "source": [
    "data = loadmat(\"./ex8data1.mat\")\n",
    "data.keys()"
   ]
  },
  {
   "cell_type": "code",
   "execution_count": 3,
   "metadata": {},
   "outputs": [
    {
     "data": {
      "text/plain": [
       "Text(0, 0.5, 'Throughput (mb/s)')"
      ]
     },
     "execution_count": 3,
     "metadata": {},
     "output_type": "execute_result"
    },
    {
     "data": {
      "image/png": "[encoded data removed]",
      "text/plain": [
       "<Figure size 432x288 with 1 Axes>"
      ]
     },
     "metadata": {
      "needs_background": "light"
     },
     "output_type": "display_data"
    }
   ],
   "source": [
    "plt.plot(  data['X'][:,0], data['X'][:,1], 'x')\n",
    "plt.axis([0,30,0,30])\n",
    "plt.xlabel( 'Latency (ms)' )\n",
    "plt.ylabel( 'Throughput (mb/s)' )"
   ]
  },
  {
   "cell_type": "code",
   "execution_count": 4,
   "metadata": {},
   "outputs": [],
   "source": [
    "def estimateGaussian(X):\n",
    "    m, n = X.shape\n",
    "    mu = (1/m)*np.sum(X, axis= 0)\n",
    "    sigma2 = (1/m)*np.sum((X-mu)**2, axis= 0)\n",
    "    return mu, sigma2"
   ]
  },
  {
   "cell_type": "code",
   "execution_count": 5,
   "metadata": {},
   "outputs": [],
   "source": [
    "def gaussian( X, mu, sigma2 ):\n",
    "    k = len(mu)\n",
    "    if sigma2.ndim == 1 :\n",
    "        sigma2 = np.diag(sigma2)\n",
    "    X = X - mu\n",
    "    return (2 * np.pi)**(-k/2) * np.linalg.det(sigma2)**(-0.5) * \\\n",
    "        np.exp( -0.5 * np.sum(np.multiply(X.dot(np.linalg.inv(sigma2) ), X ), axis=1)).reshape(( X.shape[0], 1 ))"
   ]
  },
  {
   "cell_type": "code",
   "execution_count": 6,
   "metadata": {},
   "outputs": [
    {
     "ename": "NameError",
     "evalue": "name 'X' is not defined",
     "output_type": "error",
     "traceback": [
      "\u001b[0;31m---------------------------------------------------------------------------\u001b[0m",
      "\u001b[0;31mNameError\u001b[0m                                 Traceback (most recent call last)",
      "\u001b[0;32m<ipython-input-6-21ee6b52d4f4>\u001b[0m in \u001b[0;36m<module>\u001b[0;34m\u001b[0m\n\u001b[0;32m----> 1\u001b[0;31m \u001b[0mprob\u001b[0m \u001b[0;34m=\u001b[0m \u001b[0mgaussian\u001b[0m\u001b[0;34m(\u001b[0m\u001b[0mX\u001b[0m\u001b[0;34m,\u001b[0m \u001b[0mmu\u001b[0m\u001b[0;34m,\u001b[0m \u001b[0msigma2\u001b[0m\u001b[0;34m)\u001b[0m\u001b[0;34m\u001b[0m\u001b[0;34m\u001b[0m\u001b[0m\n\u001b[0m\u001b[1;32m      2\u001b[0m \u001b[0mprint\u001b[0m\u001b[0;34m(\u001b[0m\u001b[0mprob\u001b[0m\u001b[0;34m.\u001b[0m\u001b[0mshape\u001b[0m\u001b[0;34m)\u001b[0m\u001b[0;34m\u001b[0m\u001b[0;34m\u001b[0m\u001b[0m\n",
      "\u001b[0;31mNameError\u001b[0m: name 'X' is not defined"
     ]
    }
   ],
   "source": [
    "prob = gaussian(X, mu, sigma2)\n",
    "print(prob.shape)"
   ]
  },
  {
   "cell_type": "code",
   "execution_count": null,
   "metadata": {},
   "outputs": [],
   "source": [
    "def visualize_fit( X, mu, sigma2 ):\n",
    "    x = y = np.arange( 0, 30, 0.5 )\n",
    "    xx, yy = np.meshgrid( x, y )\n",
    "    z = gaussian( np.vstack( (xx.ravel(), yy.ravel()) ).T, mu, sigma2 )\n",
    "    z = z.reshape( xx.shape )\n",
    "    levels = [ 10**a for a in range(-20, 0, 3) ]\n",
    "    plt.contour( xx, yy, z, levels=levels )"
   ]
  },
  {
   "cell_type": "code",
   "execution_count": null,
   "metadata": {},
   "outputs": [],
   "source": [
    "plt.plot(  data['X'][:,0], data['X'][:,1], 'x')\n",
    "plt.axis([0,30,0,30])\n",
    "plt.xlabel( 'Latency (ms)' )\n",
    "plt.ylabel( 'Throughput (mb/s)')\n",
    "visualize_fit(X, mu , np.diag( sigma2))"
   ]
  },
  {
   "cell_type": "code",
   "execution_count": null,
   "metadata": {},
   "outputs": [],
   "source": [
    "def selectThreshold(yval, pval):\n",
    "    bestEpsilon = 0\n",
    "    bestF1 = 0\n",
    "    F1 = 0\n",
    "   \n",
    "    for epsilon in np.linspace(1.01*min(pval), max(pval), 1000):\n",
    "        predictions = (pval < epsilon)\n",
    "        tp = np.sum((predictions == yval) & (yval == 1))\n",
    "        fp = np.sum((predictions == 1) & (yval == 0))\n",
    "        fn = np.sum((predictions == 0) & (yval == 1))\n",
    "        \n",
    "        prec = tp / (tp + fp)\n",
    "        rec = tp / (tp + fn)\n",
    "        \n",
    "        F1 = 2 * prec * rec / (prec + rec)\n",
    "        if F1 > bestF1:\n",
    "            bestF1 = F1\n",
    "            bestEpsilon = epsilon\n",
    "\n",
    "    return bestEpsilon, bestF1"
   ]
  },
  {
   "cell_type": "code",
   "execution_count": null,
   "metadata": {},
   "outputs": [],
   "source": [
    "pval = gaussian( data['Xval'], mu, sigma2 )\n",
    "epsilon, f1 = selectThreshold( data['yval'], pval)"
   ]
  },
  {
   "cell_type": "code",
   "execution_count": null,
   "metadata": {},
   "outputs": [],
   "source": [
    "outliers = gaussian(X, mu, sigma2 )[:,0] < epsilon"
   ]
  },
  {
   "cell_type": "code",
   "execution_count": null,
   "metadata": {},
   "outputs": [],
   "source": [
    "plt.plot(  data['X'][:,0], data['X'][:,1], 'x')\n",
    "plt.axis([0,30,0,30])\n",
    "plt.xlabel( 'Latency (ms)' )\n",
    "plt.ylabel( 'Throughput (mb/s)')\n",
    "visualize_fit(X, mu , np.diag( sigma2) )\n",
    "plt.scatter(X[outliers][:,0], X[outliers][:,1], s=60, edgecolors='r', facecolors='None', linewidth=1.5 )"
   ]
  }
 ],
 "metadata": {
  "kernelspec": {
   "display_name": "Python 3",
   "language": "python",
   "name": "python3"
  },
  "language_info": {
   "codemirror_mode": {
    "name": "ipython",
    "version": 3
   },
   "file_extension": ".py",
   "mimetype": "text/x-python",
   "name": "python",
   "nbconvert_exporter": "python",
   "pygments_lexer": "ipython3",
   "version": "3.8.5"
  }
 },
 "nbformat": 4,
 "nbformat_minor": 4
}
