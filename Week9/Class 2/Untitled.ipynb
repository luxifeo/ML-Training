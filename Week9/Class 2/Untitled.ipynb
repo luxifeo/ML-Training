{
 "cells": [
  {
   "cell_type": "code",
   "execution_count": 1,
   "metadata": {},
   "outputs": [],
   "source": [
    "import numpy as np\n",
    "import matplotlib.pyplot as plt\n",
    "from scipy import optimize\n",
    "from scipy.io import loadmat"
   ]
  },
  {
   "cell_type": "code",
   "execution_count": 4,
   "metadata": {},
   "outputs": [
    {
     "name": "stdout",
     "output_type": "stream",
     "text": [
      "(1682, 943)\n",
      "(1682, 943)\n"
     ]
    }
   ],
   "source": [
    "data = loadmat('ex8_movies.mat')\n",
    "Y, R = data['Y'], data['R']\n",
    "print(Y.shape)\n",
    "print(R.shape)"
   ]
  },
  {
   "cell_type": "code",
   "execution_count": 5,
   "metadata": {},
   "outputs": [],
   "source": [
    "def cofi_cost_func( params, Y, R, num_users, num_movies, num_features, lmda ):\n",
    "    X = params[:num_movies*num_features].reshape( (num_movies, num_features) )\n",
    "    Theta = params[num_movies*num_features:].reshape( (num_users, num_features) )\n",
    "   \n",
    "    X_grad = np.zeros( (X.shape) )\n",
    "    Theta_grad = np.zeros( (Theta.shape) )\n",
    "    \n",
    "    J = np.sum(np.square( np.multiply( X.dot(Theta.T) - Y, R ) )) / 2\n",
    "    X_grad = np.multiply( X.dot(Theta.T) - Y, R ).dot(Theta) + lmda * X\n",
    "    Theta_grad = np.multiply( X.dot(Theta.T) - Y, R ).T.dot(X) + lmda * Theta\n",
    "    \n",
    "    reg_x = (lmda/2) * np.sum( np.square(X) ) \n",
    "    reg_theta = (lmda/2) * np.sum( np.square(Theta) ) \n",
    "    \n",
    "    return ( J + reg_x + reg_theta, np.concatenate( ( X_grad.ravel(), Theta_grad.ravel() ) ) )"
   ]
  },
  {
   "cell_type": "code",
   "execution_count": 8,
   "metadata": {},
   "outputs": [],
   "source": [
    "movie_params = loadmat('ex8_movieParams.mat')\n",
    "num_users = 4 \n",
    "num_movies = 5 \n",
    "num_features = 3\n",
    "\n",
    "X = movie_params['X'][0:num_movies, 0:num_features]\n",
    "Theta = movie_params['Theta'][0:num_users, 0:num_features]\n",
    "Y = Y[0:num_movies, 0:num_users]\n",
    "R = R[0:num_movies, 0:num_users]"
   ]
  },
  {
   "cell_type": "code",
   "execution_count": 9,
   "metadata": {},
   "outputs": [
    {
     "name": "stdout",
     "output_type": "stream",
     "text": [
      "22.224603725685675\n"
     ]
    }
   ],
   "source": [
    "J, grad = cofi_cost_func( np.concatenate(( X.ravel(), Theta.ravel() )), Y, R, num_users, num_movies, num_features, 0 )\n",
    "print(J)"
   ]
  },
  {
   "cell_type": "code",
   "execution_count": 10,
   "metadata": {},
   "outputs": [
    {
     "name": "stdout",
     "output_type": "stream",
     "text": [
      "Cost with lambda = 1.5:  31.34\n"
     ]
    }
   ],
   "source": [
    "J, grad = cofi_cost_func( np.concatenate(( X.ravel(), Theta.ravel() )), Y, R, num_users, num_movies, num_features, 1.5 )\n",
    "print( 'Cost with lambda = 1.5: ', round( J, 2 ))"
   ]
  },
  {
   "cell_type": "code",
   "execution_count": null,
   "metadata": {},
   "outputs": [],
   "source": []
  }
 ],
 "metadata": {
  "kernelspec": {
   "display_name": "Python 3",
   "language": "python",
   "name": "python3"
  },
  "language_info": {
   "codemirror_mode": {
    "name": "ipython",
    "version": 3
   },
   "file_extension": ".py",
   "mimetype": "text/x-python",
   "name": "python",
   "nbconvert_exporter": "python",
   "pygments_lexer": "ipython3",
   "version": "3.7.4"
  }
 },
 "nbformat": 4,
 "nbformat_minor": 2
}
