{
 "cells": [
  {
   "cell_type": "code",
   "execution_count": 1,
   "metadata": {
    "ExecuteTime": {
     "end_time": "2020-09-09T04:21:40.266126Z",
     "start_time": "2020-09-09T04:21:37.526860Z"
    }
   },
   "outputs": [],
   "source": [
    "# Standard data science libraries\n",
    "import cv2\n",
    "import matplotlib.pyplot as plt\n",
    "import numpy as np\n",
    "import imutils\n",
    "import glob\n",
    "import os\n",
    "import time\n",
    "        "
   ]
  },
  {
   "cell_type": "code",
   "execution_count": 2,
   "metadata": {
    "ExecuteTime": {
     "end_time": "2020-09-09T04:21:40.276744Z",
     "start_time": "2020-09-09T04:21:40.270855Z"
    }
   },
   "outputs": [],
   "source": [
    "plt.rcParams['figure.figsize'] = [11, 11]"
   ]
  },
  {
   "cell_type": "code",
   "execution_count": 3,
   "metadata": {
    "ExecuteTime": {
     "end_time": "2020-09-09T04:21:46.024686Z",
     "start_time": "2020-09-09T04:21:46.022544Z"
    }
   },
   "outputs": [],
   "source": [
    "from scipy.io import loadmat"
   ]
  },
  {
   "cell_type": "code",
   "execution_count": 6,
   "metadata": {
    "ExecuteTime": {
     "end_time": "2020-09-09T04:25:22.681933Z",
     "start_time": "2020-09-09T04:25:22.606634Z"
    }
   },
   "outputs": [],
   "source": [
    "weights = loadmat('ex3weights.mat')\n",
    "theta1 = weights['Theta1']\n",
    "theta2 = weights['Theta2']\n",
    "data = loadmat('ex3data1.mat')\n",
    "X = data['X']\n",
    "y = data['y']"
   ]
  },
  {
   "cell_type": "code",
   "execution_count": 23,
   "metadata": {
    "ExecuteTime": {
     "end_time": "2020-09-09T04:35:15.961536Z",
     "start_time": "2020-09-09T04:35:15.194510Z"
    }
   },
   "outputs": [
    {
     "data": {
      "image/png": "[encoded data removed]",
      "text/plain": [
       "<Figure size 792x792 with 9 Axes>"
      ]
     },
     "metadata": {
      "needs_background": "light"
     },
     "output_type": "display_data"
    }
   ],
   "source": [
    "size = len(X)\n",
    "for i in range(9):\n",
    "    plt.subplot(3, 3, i+1)\n",
    "    idx = np.random.randint(0, size)\n",
    "    plt.title(y[idx] % 10)\n",
    "    plt.imshow(X[idx].reshape(20, 20).T, cmap='gray')"
   ]
  },
  {
   "cell_type": "code",
   "execution_count": 24,
   "metadata": {
    "ExecuteTime": {
     "end_time": "2020-09-09T04:36:43.806761Z",
     "start_time": "2020-09-09T04:36:43.804348Z"
    }
   },
   "outputs": [],
   "source": [
    "def sigmoid(x):\n",
    "    return 1 / (1 + np.exp(-x))"
   ]
  },
  {
   "cell_type": "code",
   "execution_count": 32,
   "metadata": {
    "ExecuteTime": {
     "end_time": "2020-09-09T04:42:40.701972Z",
     "start_time": "2020-09-09T04:42:40.688965Z"
    }
   },
   "outputs": [],
   "source": [
    "def forward(X, theta1, theta2):\n",
    "    size = len(X)\n",
    "    out = np.concatenate((np.ones((size, 1)), X), axis=1)\n",
    "    out = sigmoid(out.dot(theta1.T))\n",
    "    size = len(out)\n",
    "    out = np.concatenate((np.ones((size, 1)), out), axis=1)\n",
    "    out = sigmoid(out.dot(theta2.T))\n",
    "    return out"
   ]
  },
  {
   "cell_type": "code",
   "execution_count": 35,
   "metadata": {
    "ExecuteTime": {
     "end_time": "2020-09-09T04:44:27.488162Z",
     "start_time": "2020-09-09T04:44:27.464131Z"
    }
   },
   "outputs": [],
   "source": [
    "out = forward(X, theta1, theta2)"
   ]
  },
  {
   "cell_type": "code",
   "execution_count": 43,
   "metadata": {
    "ExecuteTime": {
     "end_time": "2020-09-09T04:49:21.890062Z",
     "start_time": "2020-09-09T04:49:21.887027Z"
    }
   },
   "outputs": [],
   "source": [
    "def predict(X):\n",
    "    out = forward(X, theta1, theta2)\n",
    "    return (np.argmax(out, axis=1) + 1) % 10"
   ]
  },
  {
   "cell_type": "code",
   "execution_count": 54,
   "metadata": {
    "ExecuteTime": {
     "end_time": "2020-09-09T04:51:21.910102Z",
     "start_time": "2020-09-09T04:51:21.906580Z"
    }
   },
   "outputs": [
    {
     "data": {
      "text/plain": [
       "array([9, 9, 9, ..., 8, 8, 8])"
      ]
     },
     "execution_count": 54,
     "metadata": {},
     "output_type": "execute_result"
    }
   ],
   "source": [
    "pred = predict(X)"
   ]
  },
  {
   "cell_type": "code",
   "execution_count": 55,
   "metadata": {
    "ExecuteTime": {
     "end_time": "2020-09-09T04:54:53.932550Z",
     "start_time": "2020-09-09T04:54:53.928488Z"
    }
   },
   "outputs": [],
   "source": [
    "acc = pred == (y.ravel() % 10)"
   ]
  },
  {
   "cell_type": "code",
   "execution_count": 57,
   "metadata": {
    "ExecuteTime": {
     "end_time": "2020-09-09T04:55:08.068120Z",
     "start_time": "2020-09-09T04:55:08.064999Z"
    }
   },
   "outputs": [
    {
     "data": {
      "text/plain": [
       "0.9752"
      ]
     },
     "execution_count": 57,
     "metadata": {},
     "output_type": "execute_result"
    }
   ],
   "source": [
    "acc.sum() / size"
   ]
  },
  {
   "cell_type": "code",
   "execution_count": null,
   "metadata": {},
   "outputs": [],
   "source": []
  }
 ],
 "metadata": {
  "kernelspec": {
   "display_name": "Python 3",
   "language": "python",
   "name": "python3"
  },
  "language_info": {
   "codemirror_mode": {
    "name": "ipython",
    "version": 3
   },
   "file_extension": ".py",
   "mimetype": "text/x-python",
   "name": "python",
   "nbconvert_exporter": "python",
   "pygments_lexer": "ipython3",
   "version": "3.8.1"
  }
 },
 "nbformat": 4,
 "nbformat_minor": 4
}
