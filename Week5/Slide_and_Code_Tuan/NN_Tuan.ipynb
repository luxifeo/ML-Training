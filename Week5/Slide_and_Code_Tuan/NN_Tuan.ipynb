{
 "cells": [
  {
   "cell_type": "code",
   "execution_count": 1,
   "metadata": {},
   "outputs": [],
   "source": [
    "import numpy as np\n",
    "import math\n",
    "from scipy.io import loadmat\n",
    "import matplotlib.pyplot as plt\n",
    "import pandas as pd\n",
    "plt.rcParams['figure.figsize'] = (10.0, 10.0)\n",
    "np.set_printoptions(suppress=True) "
   ]
  },
  {
   "cell_type": "code",
   "execution_count": 2,
   "metadata": {},
   "outputs": [
    {
     "data": {
      "text/plain": [
       "dict_keys(['__header__', '__version__', '__globals__', 'X', 'y'])"
      ]
     },
     "execution_count": 2,
     "metadata": {},
     "output_type": "execute_result"
    }
   ],
   "source": [
    "data = loadmat('./ex4data1.mat')\n",
    "data.keys()"
   ]
  },
  {
   "cell_type": "code",
   "execution_count": 3,
   "metadata": {},
   "outputs": [
    {
     "name": "stdout",
     "output_type": "stream",
     "text": [
      "Shape of X:  (5000, 400)\n",
      "Shape of y:  (5000, 10)\n"
     ]
    }
   ],
   "source": [
    "X = data['X']\n",
    "y = data['y']\n",
    "# convert the labels to a 10-d vector\n",
    "y = pd.get_dummies( y.ravel() ).to_numpy() # 5000x10\n",
    "print(\"Shape of X: \", X.shape)\n",
    "print(\"Shape of y: \", y.shape)"
   ]
  },
  {
   "cell_type": "markdown",
   "metadata": {},
   "source": [
    "## Model presentation"
   ]
  },
  {
   "cell_type": "code",
   "execution_count": 4,
   "metadata": {},
   "outputs": [
    {
     "data": {
      "text/plain": [
       "dict_keys(['__header__', '__version__', '__globals__', 'Theta1', 'Theta2'])"
      ]
     },
     "execution_count": 4,
     "metadata": {},
     "output_type": "execute_result"
    }
   ],
   "source": [
    "weights_data = loadmat('./ex4weights.mat')\n",
    "weights_data.keys()"
   ]
  },
  {
   "cell_type": "code",
   "execution_count": 5,
   "metadata": {},
   "outputs": [
    {
     "name": "stdout",
     "output_type": "stream",
     "text": [
      "(25, 401) (10, 26)\n"
     ]
    }
   ],
   "source": [
    "theta1, theta2 = weights_data['Theta1'], weights_data['Theta2']\n",
    "print( theta1.shape, theta2.shape)"
   ]
  },
  {
   "cell_type": "markdown",
   "metadata": {},
   "source": [
    "## Feedforward and cost functon"
   ]
  },
  {
   "cell_type": "code",
   "execution_count": 6,
   "metadata": {},
   "outputs": [],
   "source": [
    "def sigmoid(x):\n",
    "    return 1 / (1 + np.exp(-x))"
   ]
  },
  {
   "cell_type": "code",
   "execution_count": 7,
   "metadata": {},
   "outputs": [],
   "source": [
    "def randInitializeWeights(L_in, L_out):\n",
    "    eps = 0.12\n",
    "    return 2 * eps * np.random.random_sample((L_out, L_in + 1)) - eps"
   ]
  },
  {
   "cell_type": "code",
   "execution_count": 8,
   "metadata": {},
   "outputs": [],
   "source": [
    "def sigmoi_gradient(z):\n",
    "    return sigmoid(z)*( 1 - sigmoid(z) )"
   ]
  },
  {
   "cell_type": "code",
   "execution_count": 9,
   "metadata": {},
   "outputs": [],
   "source": [
    "def nn_cost_function_backprop(theta_params, X, y, lamda ):\n",
    "    \n",
    "    theta1, theta2 = np.split(theta_params,[25*401])\n",
    "    theta1 = np.reshape(theta1,(25,401))\n",
    "    theta2 = np.reshape(theta2,(10,26))\n",
    "    \n",
    "    m = X.shape[0]\n",
    "    a1 = np.c_[np.ones(X.shape[0] ),X]     #5000x401\n",
    "    \n",
    "    z2 = theta1.dot(a1.T)\n",
    "    a2 = np.r_[ np.ones( (1, z2.shape[1]) ), sigmoid(z2) ]\n",
    "    \n",
    "    z3 = theta2.dot( a2 )\n",
    "    a3 = sigmoid(z3) # 10x5000\n",
    "    \n",
    "    J = (-1/m) * np.trace( np.log(a3).dot(y) + np.log(1 - a3).dot( ( 1 - y ))) + \\\n",
    "            ( lamda/(2*m) ) * ( np.trace( (theta1[:,1:]).T.dot(theta1[:,1:]) ) + np.trace( (theta2[:,1:]).T.dot(theta2[:,1:])))\n",
    "    \n",
    "    #Backpropagation\n",
    "    delta3 = a3.T - y # (5000x10)\n",
    "    delta2 = theta2[:, 1:].T.dot(delta3.T) * sigmoi_gradient(z2) # (25x5000)\n",
    "\n",
    "    D1 = delta2.dot(a1) #(25x401)\n",
    "    D2 = delta3.T.dot(a2.T) #(10x26)\n",
    "\n",
    "    theta1_reg = np.c_[np.zeros((theta1.shape[0],1)),theta1[:,1:]]\n",
    "    theta2_reg = np.c_[np.zeros((theta2.shape[0],1)),theta2[:,1:]]\n",
    "    \n",
    "    theta1_grad = D1/m + (theta1_reg * lamda)/m \n",
    "    theta2_grad= D2/m + (theta2_reg * lamda)/m\n",
    "    \n",
    "    grad = np.r_[theta1_grad.ravel(), theta2_grad.ravel()]\n",
    "    return J, grad"
   ]
  },
  {
   "cell_type": "code",
   "execution_count": 10,
   "metadata": {},
   "outputs": [
    {
     "name": "stdout",
     "output_type": "stream",
     "text": [
      "0.3837698590909237\n"
     ]
    }
   ],
   "source": [
    "theta_params = np.r_[theta1.ravel(), theta2.ravel()]\n",
    "J, grad = nn_cost_function_backprop(theta_params, X, y, 1)\n",
    "print(J)"
   ]
  },
  {
   "cell_type": "markdown",
   "metadata": {},
   "source": [
    "## Backpropagation"
   ]
  },
  {
   "cell_type": "code",
   "execution_count": 11,
   "metadata": {},
   "outputs": [],
   "source": [
    "theta1_0 = randInitializeWeights(400, 25)\n",
    "theta2_0 = randInitializeWeights(25, 10)\n",
    "theta_0 = np.r_[theta1_0.ravel(), theta2_0.ravel()]"
   ]
  },
  {
   "cell_type": "code",
   "execution_count": 12,
   "metadata": {},
   "outputs": [],
   "source": [
    "from scipy.optimize import minimize\n",
    "lamda = 1\n",
    "nn = minimize( fun = nn_cost_function_backprop, x0 = theta_0, \n",
    "              args = (X, y, lamda), \n",
    "              method = 'CG', jac = True, options = {'maxiter' : 400} )"
   ]
  },
  {
   "cell_type": "code",
   "execution_count": 13,
   "metadata": {},
   "outputs": [
    {
     "data": {
      "text/plain": [
       "     fun: 0.3177414801332822\n",
       "     jac: array([-0.00003294, -0.00000003,  0.00000003, ..., -0.000027  ,\n",
       "       -0.0000709 , -0.00009441])\n",
       " message: 'Maximum number of iterations has been exceeded.'\n",
       "    nfev: 889\n",
       "     nit: 400\n",
       "    njev: 889\n",
       "  status: 1\n",
       " success: False\n",
       "       x: array([ 0.94942422, -0.00012581,  0.00013312, ..., -1.68210294,\n",
       "        2.17810025,  0.29023886])"
      ]
     },
     "execution_count": 13,
     "metadata": {},
     "output_type": "execute_result"
    }
   ],
   "source": [
    "nn"
   ]
  },
  {
   "cell_type": "code",
   "execution_count": 14,
   "metadata": {},
   "outputs": [],
   "source": [
    "def predict( theta1, theta2, X ):\n",
    "    z2 = theta1.dot(np.c_[np.ones(X.shape[0] ),X].T)\n",
    "    a2 = np.r_[ np.ones( (1, z2.shape[1]) ), sigmoid(z2) ].T\n",
    "    prob = sigmoid(a2.dot(theta2.T))\n",
    "    pred =  np.argmax(prob, axis = 1 )+1\n",
    "    return pred"
   ]
  },
  {
   "cell_type": "code",
   "execution_count": 15,
   "metadata": {},
   "outputs": [
    {
     "data": {
      "text/plain": [
       "array([[0, 0, 0, ..., 0, 0, 1],\n",
       "       [0, 0, 0, ..., 0, 0, 1],\n",
       "       [0, 0, 0, ..., 0, 0, 1],\n",
       "       ...,\n",
       "       [0, 0, 0, ..., 0, 1, 0],\n",
       "       [0, 0, 0, ..., 0, 1, 0],\n",
       "       [0, 0, 0, ..., 0, 1, 0]], dtype=uint8)"
      ]
     },
     "execution_count": 15,
     "metadata": {},
     "output_type": "execute_result"
    }
   ],
   "source": [
    "y"
   ]
  },
  {
   "cell_type": "code",
   "execution_count": 16,
   "metadata": {},
   "outputs": [
    {
     "name": "stdout",
     "output_type": "stream",
     "text": [
      "training accuracy =  99.5\n"
     ]
    }
   ],
   "source": [
    "res_layer1 = nn.x[0:25*401].reshape(25, 401)\n",
    "res_layer2 = nn.x[25*401:].reshape(10, 26)\n",
    "training_accuracy = np.mean( (data[\"y\"].ravel() == predict( res_layer1, res_layer2, X ))*100 )\n",
    "print( 'training accuracy = ', training_accuracy )"
   ]
  },
  {
   "cell_type": "markdown",
   "metadata": {},
   "source": [
    "## Gradient Checking"
   ]
  },
  {
   "cell_type": "code",
   "execution_count": 17,
   "metadata": {},
   "outputs": [],
   "source": [
    "def nn_cost_function(theta_params, X, y, lamda ):\n",
    "    \n",
    "    theta1, theta2 = np.split(theta_params,[5*4])\n",
    "    theta1 = np.reshape(theta1,(5, 4))\n",
    "    theta2 = np.reshape(theta2,(3,6))\n",
    "    \n",
    "    m = X.shape[0]\n",
    "    a1 = np.c_[np.ones(X.shape[0] ),X]\n",
    "    \n",
    "    z2 = theta1.dot(a1.T)\n",
    "    a2 = np.r_[ np.ones( (1, z2.shape[1]) ), sigmoid(z2) ]\n",
    "    \n",
    "    z3 = theta2.dot( a2 )\n",
    "    a3 = sigmoid(z3)\n",
    "    \n",
    "    J = (-1/m) * np.trace( np.log(a3).dot(y) + np.log(1 - a3).dot( ( 1 - y ))) + \\\n",
    "            ( lamda/(2*m) ) * ( np.trace( (theta1[:,1:]).T.dot(theta1[:,1:]) ) + np.trace( (theta2[:,1:]).T.dot(theta2[:,1:])))\n",
    "    return J"
   ]
  },
  {
   "cell_type": "code",
   "execution_count": 18,
   "metadata": {},
   "outputs": [],
   "source": [
    "def numerical_gradient(theta, X, y, lamda):\n",
    "    num_grad = np.zeros(theta.shape[0])\n",
    "    eps_vec = np.zeros(theta.shape[0])\n",
    "    eps = 1e-4\n",
    "    for i in range(theta.size):\n",
    "        eps_vec[i] = eps\n",
    "        loss1 = nn_cost_function(theta-eps_vec, X, y, lamda)\n",
    "        loss2 = nn_cost_function(theta+eps_vec, X, y, lamda)\n",
    "        \n",
    "        #Compute grad\n",
    "        num_grad[i] = (loss2 - loss1)/(2*eps)\n",
    "        eps_vec[i] = 0.0\n",
    "    return num_grad"
   ]
  },
  {
   "cell_type": "code",
   "execution_count": 19,
   "metadata": {},
   "outputs": [],
   "source": [
    "input_layer_size = 3\n",
    "hidden_layer_size = 5\n",
    "num_labels = 3\n",
    "m = 5"
   ]
  },
  {
   "cell_type": "code",
   "execution_count": 20,
   "metadata": {},
   "outputs": [],
   "source": [
    "from sklearn import datasets, preprocessing"
   ]
  },
  {
   "cell_type": "code",
   "execution_count": 21,
   "metadata": {},
   "outputs": [
    {
     "name": "stdout",
     "output_type": "stream",
     "text": [
      "X shape:  (5, 3)\n",
      "y shape:  (5, 3)\n"
     ]
    }
   ],
   "source": [
    "X, y = datasets.make_classification(n_samples=m, n_features=input_layer_size,n_informative=input_layer_size, n_redundant=0, n_repeated=0, n_classes=3)\n",
    "y = pd.get_dummies( y.ravel() ).to_numpy()    #(5, 3)\n",
    "print(\"X shape: \", X.shape)\n",
    "print(\"y shape: \", y.shape)"
   ]
  },
  {
   "cell_type": "code",
   "execution_count": 22,
   "metadata": {},
   "outputs": [
    {
     "data": {
      "text/plain": [
       "(38,)"
      ]
     },
     "execution_count": 22,
     "metadata": {},
     "output_type": "execute_result"
    }
   ],
   "source": [
    "theta1_0 = randInitializeWeights(input_layer_size, hidden_layer_size)\n",
    "theta2_0 = randInitializeWeights(hidden_layer_size, num_labels)\n",
    "theta_0 = np.r_[theta1_0.ravel(), theta2_0.ravel()]\n",
    "theta_0.shape"
   ]
  },
  {
   "cell_type": "code",
   "execution_count": 23,
   "metadata": {},
   "outputs": [
    {
     "data": {
      "text/plain": [
       "(5, 4)"
      ]
     },
     "execution_count": 23,
     "metadata": {},
     "output_type": "execute_result"
    }
   ],
   "source": [
    "theta1_0.shape"
   ]
  },
  {
   "cell_type": "code",
   "execution_count": 24,
   "metadata": {},
   "outputs": [],
   "source": [
    "def nn_cost_function_backprop(theta_params, X, y, lamda ):\n",
    "    \n",
    "    theta1, theta2 = np.split(theta_params,[5*4])\n",
    "    theta1 = np.reshape(theta1,(5, 4))\n",
    "    theta2 = np.reshape(theta2,(3,6))\n",
    "    \n",
    "    m = X.shape[0]\n",
    "    a1 = np.c_[np.ones(X.shape[0] ),X]     #5000x401\n",
    "    \n",
    "    z2 = theta1.dot(a1.T)\n",
    "    a2 = np.r_[ np.ones( (1, z2.shape[1]) ), sigmoid(z2) ]\n",
    "    \n",
    "    z3 = theta2.dot( a2 )\n",
    "    a3 = sigmoid(z3) # 10x5000\n",
    "    \n",
    "    J = (-1/m) * np.trace( np.log(a3).dot(y) + np.log(1 - a3).dot( ( 1 - y ))) + \\\n",
    "            ( lamda/(2*m) ) * ( np.trace( (theta1[:,1:]).T.dot(theta1[:,1:]) ) + np.trace( (theta2[:,1:]).T.dot(theta2[:,1:])))\n",
    "    \n",
    "    #Backpropagation\n",
    "    delta3 = a3.T - y # (5000x10)\n",
    "    delta2 = theta2[:, 1:].T.dot(delta3.T) * sigmoi_gradient(z2) # (25x5000)\n",
    "\n",
    "    D1 = delta2.dot(a1) #(25x401)\n",
    "    D2 = delta3.T.dot(a2.T) #(10x26)\n",
    "\n",
    "    theta1_reg = np.c_[np.zeros((theta1.shape[0],1)),theta1[:,1:]]\n",
    "    theta2_reg = np.c_[np.zeros((theta2.shape[0],1)),theta2[:,1:]]\n",
    "    \n",
    "    theta1_grad = D1/m + (theta1_reg * lamda)/m \n",
    "    theta2_grad= D2/m + (theta2_reg * lamda)/m\n",
    "    \n",
    "    grad = np.r_[theta1_grad.ravel(), theta2_grad.ravel()]\n",
    "    return J, grad"
   ]
  },
  {
   "cell_type": "code",
   "execution_count": 25,
   "metadata": {},
   "outputs": [
    {
     "name": "stdout",
     "output_type": "stream",
     "text": [
      "(38,)\n"
     ]
    }
   ],
   "source": [
    "J, grad = nn_cost_function_backprop(theta_0.copy(), X, y, 1)\n",
    "print(grad.shape)"
   ]
  },
  {
   "cell_type": "code",
   "execution_count": 26,
   "metadata": {},
   "outputs": [
    {
     "name": "stdout",
     "output_type": "stream",
     "text": [
      "(38,)\n"
     ]
    }
   ],
   "source": [
    "numgrad = numerical_gradient(theta_0.copy(), X, y, 1)\n",
    "print(numgrad.shape)"
   ]
  },
  {
   "cell_type": "code",
   "execution_count": 27,
   "metadata": {},
   "outputs": [],
   "source": [
    "diff = np.linalg.norm(numgrad-grad)/np.linalg.norm(numgrad+grad)"
   ]
  },
  {
   "cell_type": "code",
   "execution_count": 28,
   "metadata": {},
   "outputs": [
    {
     "data": {
      "text/plain": [
       "7.635234518506442e-11"
      ]
     },
     "execution_count": 28,
     "metadata": {},
     "output_type": "execute_result"
    }
   ],
   "source": [
    "diff"
   ]
  },
  {
   "cell_type": "code",
   "execution_count": 29,
   "metadata": {},
   "outputs": [
    {
     "data": {
      "text/plain": [
       "array([ 0.00414413,  0.01677476, -0.01372954,  0.02211303,  0.00336282,\n",
       "       -0.00037137,  0.00102637, -0.01054504,  0.00283375,  0.00137006,\n",
       "       -0.01656496,  0.0178358 , -0.00074517, -0.04039521,  0.01814783,\n",
       "        0.02698411,  0.00289515,  0.00357534,  0.01343472,  0.02307375,\n",
       "        0.08658999,  0.04232545,  0.02554712,  0.05014558,  0.06138933,\n",
       "        0.05690897,  0.14643314,  0.08327513,  0.08086097,  0.07794555,\n",
       "        0.11771219,  0.08657104,  0.31237821,  0.17619996,  0.15985427,\n",
       "        0.16415111,  0.13575489,  0.14861195])"
      ]
     },
     "execution_count": 29,
     "metadata": {},
     "output_type": "execute_result"
    }
   ],
   "source": [
    "numgrad"
   ]
  },
  {
   "cell_type": "code",
   "execution_count": 30,
   "metadata": {},
   "outputs": [
    {
     "data": {
      "text/plain": [
       "array([ 0.00414413,  0.01677476, -0.01372954,  0.02211303,  0.00336282,\n",
       "       -0.00037137,  0.00102637, -0.01054504,  0.00283375,  0.00137006,\n",
       "       -0.01656496,  0.0178358 , -0.00074517, -0.04039521,  0.01814783,\n",
       "        0.02698411,  0.00289515,  0.00357534,  0.01343472,  0.02307375,\n",
       "        0.08658999,  0.04232545,  0.02554712,  0.05014558,  0.06138933,\n",
       "        0.05690897,  0.14643314,  0.08327513,  0.08086097,  0.07794555,\n",
       "        0.11771219,  0.08657104,  0.31237821,  0.17619996,  0.15985427,\n",
       "        0.16415111,  0.13575489,  0.14861195])"
      ]
     },
     "execution_count": 30,
     "metadata": {},
     "output_type": "execute_result"
    }
   ],
   "source": [
    "grad"
   ]
  }
 ],
 "metadata": {
  "kernelspec": {
   "display_name": "Python 3",
   "language": "python",
   "name": "python3"
  },
  "language_info": {
   "codemirror_mode": {
    "name": "ipython",
    "version": 3
   },
   "file_extension": ".py",
   "mimetype": "text/x-python",
   "name": "python",
   "nbconvert_exporter": "python",
   "pygments_lexer": "ipython3",
   "version": "3.8.2"
  }
 },
 "nbformat": 4,
 "nbformat_minor": 2
}
