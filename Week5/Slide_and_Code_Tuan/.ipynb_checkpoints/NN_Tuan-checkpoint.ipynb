{
 "cells": [
  {
   "cell_type": "code",
   "execution_count": 1,
   "metadata": {},
   "outputs": [],
   "source": [
    "import numpy as np\n",
    "import math\n",
    "from scipy.io import loadmat\n",
    "import matplotlib.pyplot as plt\n",
    "import pandas as pd\n",
    "plt.rcParams['figure.figsize'] = (10.0, 10.0)\n",
    "np.set_printoptions(suppress=True) "
   ]
  },
  {
   "cell_type": "code",
   "execution_count": 2,
   "metadata": {},
   "outputs": [
    {
     "data": {
      "text/plain": [
       "dict_keys(['__header__', '__version__', '__globals__', 'X', 'y'])"
      ]
     },
     "execution_count": 2,
     "metadata": {},
     "output_type": "execute_result"
    }
   ],
   "source": [
    "data = loadmat('./ex4data1.mat')\n",
    "data.keys()"
   ]
  },
  {
   "cell_type": "code",
   "execution_count": 3,
   "metadata": {},
   "outputs": [
    {
     "name": "stdout",
     "output_type": "stream",
     "text": [
      "Shape of X:  (5000, 400)\n",
      "Shape of y:  (5000, 10)\n"
     ]
    }
   ],
   "source": [
    "X = data['X']\n",
    "y = data['y']\n",
    "# convert the labels to a 10-d vector\n",
    "y = pd.get_dummies( y.ravel() ).to_numpy() # 5000x10\n",
    "print(\"Shape of X: \", X.shape)\n",
    "print(\"Shape of y: \", y.shape)"
   ]
  },
  {
   "cell_type": "markdown",
   "metadata": {},
   "source": [
    "## Model presentation"
   ]
  },
  {
   "cell_type": "code",
   "execution_count": 5,
   "metadata": {},
   "outputs": [
    {
     "data": {
      "text/plain": [
       "dict_keys(['__header__', '__version__', '__globals__', 'Theta1', 'Theta2'])"
      ]
     },
     "execution_count": 5,
     "metadata": {},
     "output_type": "execute_result"
    }
   ],
   "source": [
    "weights_data = loadmat('./ex4weights.mat')\n",
    "weights_data.keys()"
   ]
  },
  {
   "cell_type": "code",
   "execution_count": 6,
   "metadata": {},
   "outputs": [
    {
     "name": "stdout",
     "output_type": "stream",
     "text": [
      "(25, 401) (10, 26)\n"
     ]
    }
   ],
   "source": [
    "theta1, theta2 = weights_data['Theta1'], weights_data['Theta2']\n",
    "print( theta1.shape, theta2.shape)"
   ]
  },
  {
   "cell_type": "markdown",
   "metadata": {},
   "source": [
    "## Feedforward and cost functon"
   ]
  },
  {
   "cell_type": "code",
   "execution_count": 7,
   "metadata": {},
   "outputs": [],
   "source": [
    "def sigmoid(x):\n",
    "    return 1 / (1 + np.exp(-x))"
   ]
  },
  {
   "cell_type": "code",
   "execution_count": 8,
   "metadata": {},
   "outputs": [],
   "source": [
    "def randInitializeWeights(L_in, L_out):\n",
    "    eps = 0.12\n",
    "    return 2 * eps * np.random.random_sample((L_out, L_in + 1)) - eps"
   ]
  },
  {
   "cell_type": "code",
   "execution_count": 9,
   "metadata": {},
   "outputs": [],
   "source": [
    "def sigmoi_gradient(z):\n",
    "    return sigmoid(z)*( 1 - sigmoid(z) )"
   ]
  },
  {
   "cell_type": "code",
   "execution_count": 10,
   "metadata": {},
   "outputs": [],
   "source": [
    "def nn_cost_function(theta_params, X, y, lamda ):\n",
    "    \n",
    "    theta1, theta2 = np.split(theta_params,[25*401])\n",
    "    theta1 = np.reshape(theta1,(25,401))\n",
    "    theta2 = np.reshape(theta2,(10,26))\n",
    "    \n",
    "    m = X.shape[0]\n",
    "    a1 = np.c_[np.ones(X.shape[0] ),X]     #5000x401\n",
    "    \n",
    "    z2 = theta1.dot(a1.T)\n",
    "    a2 = np.r_[ np.ones( (1, z2.shape[1]) ), sigmoid(z2) ]\n",
    "    \n",
    "    z3 = theta2.dot( a2 )\n",
    "    a3 = sigmoid(z3) # 10x5000\n",
    "    \n",
    "    J = (-1/m) * np.trace( np.log(a3).dot(y) + np.log(1 - a3).dot( ( 1 - y ))) + \\\n",
    "            ( lamda/(2*m) ) * ( np.trace( (theta1[:,1:]).T.dot(theta1[:,1:]) ) + np.trace( (theta2[:,1:]).T.dot(theta2[:,1:])))\n",
    "    \n",
    "    #Backpropagation\n",
    "    delta3 = a3.T - y # (5000x10)\n",
    "    delta2 = theta2[:, 1:].T.dot(delta3.T) * sigmoi_gradient(z2) # (25x5000)\n",
    "\n",
    "    D1 = delta2.dot(a1) #(25x401)\n",
    "    D2 = delta3.T.dot(a2.T) #(10x26)\n",
    "\n",
    "    theta1_reg = np.c_[np.ones((theta1.shape[0],1)),theta1[:,1:]]\n",
    "    theta2_reg = np.c_[np.ones((theta2.shape[0],1)),theta2[:,1:]]\n",
    "    \n",
    "    theta1_grad = D1/m + (theta1_reg * lamda)/m \n",
    "    theta2_grad= D2/m + (theta2_reg * lamda)/m\n",
    "    \n",
    "    grad = np.r_[theta1_grad.ravel(), theta2_grad.ravel()]\n",
    "    return J, grad"
   ]
  },
  {
   "cell_type": "code",
   "execution_count": 11,
   "metadata": {},
   "outputs": [
    {
     "name": "stdout",
     "output_type": "stream",
     "text": [
      "0.3837698590909236\n"
     ]
    }
   ],
   "source": [
    "theta_params = np.r_[theta1.ravel(), theta2.ravel()]\n",
    "J, grad = nn_cost_function(theta_params, X, y, 1)\n",
    "print(J)"
   ]
  },
  {
   "cell_type": "markdown",
   "metadata": {},
   "source": [
    "## Backpropagation"
   ]
  },
  {
   "cell_type": "code",
   "execution_count": 12,
   "metadata": {},
   "outputs": [],
   "source": [
    "theta1_0 = randInitializeWeights(400, 25)\n",
    "theta2_0 = randInitializeWeights(25, 10)\n",
    "theta_0 = np.r_[theta1_0.ravel(), theta2_0.ravel()]"
   ]
  },
  {
   "cell_type": "code",
   "execution_count": 13,
   "metadata": {},
   "outputs": [],
   "source": [
    "from scipy.optimize import minimize\n",
    "lamda = 1\n",
    "nn = minimize( fun = nn_cost_function, x0 = theta_0, \n",
    "              args = (X, y, lamda), \n",
    "              method = 'CG', jac = True, options = {'maxiter' : 400} )"
   ]
  },
  {
   "cell_type": "code",
   "execution_count": 14,
   "metadata": {},
   "outputs": [
    {
     "data": {
      "text/plain": [
       "     fun: 0.3265394501098349\n",
       "     jac: array([ 0.00044877, -0.00000013,  0.00000066, ..., -0.00001636,\n",
       "        0.00006743, -0.00002551])\n",
       " message: 'Desired error not necessarily achieved due to precision loss.'\n",
       "    nfev: 646\n",
       "     nit: 232\n",
       "    njev: 634\n",
       "  status: 2\n",
       " success: False\n",
       "       x: array([-1.02803998, -0.00062632,  0.00328882, ..., -0.1100495 ,\n",
       "       -0.96710597, -0.13942714])"
      ]
     },
     "execution_count": 14,
     "metadata": {},
     "output_type": "execute_result"
    }
   ],
   "source": [
    "nn"
   ]
  },
  {
   "cell_type": "code",
   "execution_count": 15,
   "metadata": {},
   "outputs": [],
   "source": [
    "def predict( theta1, theta2, X ):\n",
    "    z2 = theta1.dot(np.c_[np.ones(X.shape[0] ),X].T)\n",
    "    a2 = np.r_[ np.ones( (1, z2.shape[1]) ), sigmoid(z2) ].T\n",
    "    prob = sigmoid(a2.dot(theta2.T))\n",
    "    pred =  np.argmax(prob, axis = 1 )+1\n",
    "    return pred"
   ]
  },
  {
   "cell_type": "code",
   "execution_count": 16,
   "metadata": {},
   "outputs": [
    {
     "data": {
      "text/plain": [
       "array([[0, 0, 0, ..., 0, 0, 1],\n",
       "       [0, 0, 0, ..., 0, 0, 1],\n",
       "       [0, 0, 0, ..., 0, 0, 1],\n",
       "       ...,\n",
       "       [0, 0, 0, ..., 0, 1, 0],\n",
       "       [0, 0, 0, ..., 0, 1, 0],\n",
       "       [0, 0, 0, ..., 0, 1, 0]], dtype=uint8)"
      ]
     },
     "execution_count": 16,
     "metadata": {},
     "output_type": "execute_result"
    }
   ],
   "source": [
    "y"
   ]
  },
  {
   "cell_type": "code",
   "execution_count": 17,
   "metadata": {},
   "outputs": [
    {
     "ename": "NameError",
     "evalue": "name 'res_layer1' is not defined",
     "output_type": "error",
     "traceback": [
      "\u001b[1;31m---------------------------------------------------------------------------\u001b[0m",
      "\u001b[1;31mNameError\u001b[0m                                 Traceback (most recent call last)",
      "\u001b[1;32m<ipython-input-17-111c8e7adf8a>\u001b[0m in \u001b[0;36m<module>\u001b[1;34m\u001b[0m\n\u001b[1;32m----> 1\u001b[1;33m \u001b[0mpredict\u001b[0m\u001b[1;33m(\u001b[0m \u001b[0mres_layer1\u001b[0m\u001b[1;33m,\u001b[0m \u001b[0mres_layer2\u001b[0m\u001b[1;33m,\u001b[0m \u001b[0mX\u001b[0m \u001b[1;33m)\u001b[0m\u001b[1;33m\u001b[0m\u001b[1;33m\u001b[0m\u001b[0m\n\u001b[0m",
      "\u001b[1;31mNameError\u001b[0m: name 'res_layer1' is not defined"
     ]
    }
   ],
   "source": [
    "predict( res_layer1, res_layer2, X )"
   ]
  },
  {
   "cell_type": "code",
   "execution_count": null,
   "metadata": {},
   "outputs": [],
   "source": [
    "res_layer1 = nn.x[0:25*401].reshape(25, 401)\n",
    "res_layer2 = nn.x[25*401:].reshape(10, 26)\n",
    "training_accuracy = np.mean( (data[\"y\"].ravel() == predict( res_layer1, res_layer2, X ))*100 )\n",
    "print( 'training accuracy = ', training_accuracy )"
   ]
  },
  {
   "cell_type": "code",
   "execution_count": null,
   "metadata": {},
   "outputs": [],
   "source": []
  }
 ],
 "metadata": {
  "kernelspec": {
   "display_name": "Python 3",
   "language": "python",
   "name": "python3"
  },
  "language_info": {
   "codemirror_mode": {
    "name": "ipython",
    "version": 3
   },
   "file_extension": ".py",
   "mimetype": "text/x-python",
   "name": "python",
   "nbconvert_exporter": "python",
   "pygments_lexer": "ipython3",
   "version": "3.7.4"
  }
 },
 "nbformat": 4,
 "nbformat_minor": 2
}
