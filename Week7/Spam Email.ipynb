{
 "cells": [
  {
   "cell_type": "code",
   "execution_count": 52,
   "metadata": {},
   "outputs": [],
   "source": [
    "from scipy.io import loadmat\n",
    "from nltk.stem import PorterStemmer\n",
    "import re\n",
    "import numpy as np"
   ]
  },
  {
   "cell_type": "code",
   "execution_count": 2,
   "metadata": {},
   "outputs": [],
   "source": [
    "train = loadmat('spamTrain.mat')"
   ]
  },
  {
   "cell_type": "code",
   "execution_count": 35,
   "metadata": {},
   "outputs": [],
   "source": [
    "with open('spamSample2.txt', 'r') as f:\n",
    "    sample = f.read()"
   ]
  },
  {
   "cell_type": "code",
   "execution_count": 36,
   "metadata": {},
   "outputs": [],
   "source": [
    "email_contents = sample.lower()"
   ]
  },
  {
   "cell_type": "code",
   "execution_count": 37,
   "metadata": {},
   "outputs": [
    {
     "name": "stdout",
     "output_type": "stream",
     "text": [
      "best buy viagra generic online\n",
      "\n",
      "viagra 100mg x 60 pills $125, free pills & reorder discount, top selling 100% quality & satisfaction guaranteed!\n",
      "\n",
      "we accept visa, master & e-check payments, 90000+ satisfied customers!\n",
      "http://medphysitcstech.ru\n",
      "\n",
      "\n",
      "\n"
     ]
    }
   ],
   "source": [
    "print(email_contents)"
   ]
  },
  {
   "cell_type": "code",
   "execution_count": 38,
   "metadata": {
    "scrolled": true
   },
   "outputs": [
    {
     "name": "stdout",
     "output_type": "stream",
     "text": [
      "best buy viagra generic online\n",
      "\n",
      "viagra 100mg x 60 pills $125, free pills & reorder discount, top selling 100% quality & satisfaction guaranteed!\n",
      "\n",
      "we accept visa, master & e-check payments, 90000+ satisfied customers!\n",
      "httpaddr\n",
      "\n",
      "\n",
      "\n"
     ]
    }
   ],
   "source": [
    "# Look for http address\n",
    "email_contents = re.sub('(http|https)://[^\\s]*', 'httpaddr', email_contents)\n",
    "print(email_contents)"
   ]
  },
  {
   "cell_type": "code",
   "execution_count": 39,
   "metadata": {},
   "outputs": [
    {
     "name": "stdout",
     "output_type": "stream",
     "text": [
      "best buy viagra generic online\n",
      "\n",
      "viagra 100mg x 60 pills $125, free pills & reorder discount, top selling 100% quality & satisfaction guaranteed!\n",
      "\n",
      "we accept visa, master & e-check payments, 90000+ satisfied customers!\n",
      "httpaddr\n",
      "\n",
      "\n",
      "\n"
     ]
    }
   ],
   "source": [
    "# Lock for Email\n",
    "email_contents = re.sub('\\S+@\\S+', 'emailaddr', email_contents)\n",
    "print(email_contents)"
   ]
  },
  {
   "cell_type": "code",
   "execution_count": 40,
   "metadata": {
    "scrolled": false
   },
   "outputs": [
    {
     "name": "stdout",
     "output_type": "stream",
     "text": [
      "best buy viagra generic online\n",
      "\n",
      "viagra numbermg x number pills $number, free pills & reorder discount, top selling number% quality & satisfaction guaranteed!\n",
      "\n",
      "we accept visa, master & e-check payments, number+ satisfied customers!\n",
      "httpaddr\n",
      "\n",
      "\n",
      "\n"
     ]
    }
   ],
   "source": [
    "# Look for number string\n",
    "email_contents = re.sub('\\d+', 'number', email_contents)\n",
    "print(email_contents)"
   ]
  },
  {
   "cell_type": "code",
   "execution_count": 41,
   "metadata": {},
   "outputs": [
    {
     "name": "stdout",
     "output_type": "stream",
     "text": [
      "best buy viagra generic online\n",
      "\n",
      "viagra numbermg x number pills dollarnumber, free pills & reorder discount, top selling number% quality & satisfaction guaranteed!\n",
      "\n",
      "we accept visa, master & e-check payments, number+ satisfied customers!\n",
      "httpaddr\n",
      "\n",
      "\n",
      "\n"
     ]
    }
   ],
   "source": [
    "# Look for number string\n",
    "email_contents = re.sub('\\$', 'dollar', email_contents)\n",
    "print(email_contents)"
   ]
  },
  {
   "cell_type": "code",
   "execution_count": 43,
   "metadata": {},
   "outputs": [
    {
     "name": "stdout",
     "output_type": "stream",
     "text": [
      "best buy viagra generic online viagra numbermg x number pills dollarnumber free pills  reorder discount top selling number quality  satisfaction guaranteed we accept visa master  echeck payments number satisfied customers httpaddr \n"
     ]
    }
   ],
   "source": [
    "email_contents = re.sub('[^\\w\\s]', '', email_contents)\n",
    "print(email_contents)"
   ]
  },
  {
   "cell_type": "code",
   "execution_count": 44,
   "metadata": {},
   "outputs": [
    {
     "name": "stdout",
     "output_type": "stream",
     "text": [
      "best buy viagra generic online viagra numbermg x number pills dollarnumber free pills reorder discount top selling number quality satisfaction guaranteed we accept visa master echeck payments number satisfied customers httpaddr \n"
     ]
    }
   ],
   "source": [
    "email_contents = re.sub('\\s+', ' ', email_contents)\n",
    "print(email_contents)"
   ]
  },
  {
   "cell_type": "code",
   "execution_count": 50,
   "metadata": {},
   "outputs": [],
   "source": [
    "word_lists = email_contents.strip().split(' ')"
   ]
  },
  {
   "cell_type": "code",
   "execution_count": 49,
   "metadata": {},
   "outputs": [],
   "source": [
    "## Stemmer\n",
    "PS = PorterStemmer()"
   ]
  },
  {
   "cell_type": "code",
   "execution_count": 55,
   "metadata": {},
   "outputs": [],
   "source": [
    "with open('vocab.txt', 'r') as f:\n",
    "    vocab = f.readlines()"
   ]
  },
  {
   "cell_type": "code",
   "execution_count": 59,
   "metadata": {},
   "outputs": [],
   "source": [
    "dicts = []\n",
    "for v in vocab:\n",
    "    dicts.append(v.strip().split('\\t')[1])"
   ]
  },
  {
   "cell_type": "code",
   "execution_count": 61,
   "metadata": {},
   "outputs": [
    {
     "data": {
      "text/plain": [
       "1899"
      ]
     },
     "execution_count": 61,
     "metadata": {},
     "output_type": "execute_result"
    }
   ],
   "source": [
    "len(dicts)"
   ]
  },
  {
   "cell_type": "code",
   "execution_count": 64,
   "metadata": {},
   "outputs": [],
   "source": [
    "X = np.zeros(len(dicts))\n",
    "for word in word_lists:\n",
    "    word_stem = PS.stem(word)\n",
    "    if word in dicts:\n",
    "        X[dicts.index(word)] = 1"
   ]
  },
  {
   "cell_type": "code",
   "execution_count": 65,
   "metadata": {},
   "outputs": [
    {
     "data": {
      "text/plain": [
       "10.0"
      ]
     },
     "execution_count": 65,
     "metadata": {},
     "output_type": "execute_result"
    }
   ],
   "source": [
    "X.sum()"
   ]
  },
  {
   "cell_type": "code",
   "execution_count": 70,
   "metadata": {},
   "outputs": [],
   "source": [
    "### Train SVM\n",
    "\n",
    "train_data = loadmat('spamTrain.mat')\n",
    "test_data = loadmat('spamTest.mat')\n",
    "Xtrain = train_data['X']\n",
    "ytrain = train_data['y']\n",
    "Xtest = test_data['Xtest']\n",
    "ytest = test_data['ytest']"
   ]
  },
  {
   "cell_type": "code",
   "execution_count": 71,
   "metadata": {},
   "outputs": [],
   "source": [
    "from sklearn import svm"
   ]
  },
  {
   "cell_type": "code",
   "execution_count": 73,
   "metadata": {},
   "outputs": [
    {
     "data": {
      "text/plain": [
       "SVC(C=100, kernel='linear')"
      ]
     },
     "execution_count": 73,
     "metadata": {},
     "output_type": "execute_result"
    }
   ],
   "source": [
    "SVM = svm.SVC(C=100, kernel='linear')\n",
    "SVM.fit(Xtrain, ytrain.ravel())"
   ]
  },
  {
   "cell_type": "code",
   "execution_count": 83,
   "metadata": {},
   "outputs": [
    {
     "name": "stdout",
     "output_type": "stream",
     "text": [
      "Accuracy: 0.97, Total: 1000\n"
     ]
    }
   ],
   "source": [
    "### Accuracy\n",
    "acc = np.mean(SVM.predict(Xtest) == ytest.ravel())\n",
    "print(f'Accuracy: {acc}, Total: {len(Xtest)}')"
   ]
  }
 ],
 "metadata": {
  "kernelspec": {
   "display_name": "Python 3",
   "language": "python",
   "name": "python3"
  },
  "language_info": {
   "codemirror_mode": {
    "name": "ipython",
    "version": 3
   },
   "file_extension": ".py",
   "mimetype": "text/x-python",
   "name": "python",
   "nbconvert_exporter": "python",
   "pygments_lexer": "ipython3",
   "version": "3.8.4"
  }
 },
 "nbformat": 4,
 "nbformat_minor": 4
}
